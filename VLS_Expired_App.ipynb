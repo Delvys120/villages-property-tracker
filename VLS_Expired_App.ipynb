{
  "nbformat": 4,
  "nbformat_minor": 0,
  "metadata": {
    "colab": {
      "provenance": [],
      "authorship_tag": "ABX9TyO0KD6DcTgFB/GlfJKHO9eL",
      "include_colab_link": true
    },
    "kernelspec": {
      "name": "python3",
      "display_name": "Python 3"
    },
    "language_info": {
      "name": "python"
    }
  },
  "cells": [
    {
      "cell_type": "markdown",
      "metadata": {
        "id": "view-in-github",
        "colab_type": "text"
      },
      "source": [
        "<a href=\"https://colab.research.google.com/github/Delvys120/villages-property-tracker/blob/main/VLS_Expired_App.ipynb\" target=\"_parent\"><img src=\"https://colab.research.google.com/assets/colab-badge.svg\" alt=\"Open In Colab\"/></a>"
      ]
    },
    {
      "cell_type": "code",
      "execution_count": null,
      "metadata": {
        "colab": {
          "base_uri": "https://localhost:8080/"
        },
        "id": "2qVCJYgvUMCL",
        "outputId": "011cdcda-7bc5-461b-d699-98dabac5a589"
      },
      "outputs": [
        {
          "output_type": "stream",
          "name": "stdout",
          "text": [
            "Drive already mounted at /content/drive; to attempt to forcibly remount, call drive.mount(\"/content/drive\", force_remount=True).\n",
            "Files inside VLS_Tracker folder:\n",
            "['VLS_2025-04-25.csv.csv', 'VLS_2025-04-26.csv', 'removed_Listings_2025-04-26.csv', 'VLS_2025-04-27.csv.csv', 'Removed_Listings_2025-04-27.csv', 'VLS_2025-04-27.csv']\n",
            "🌐 Fetching today's VLS data...\n",
            "✅ Total homes received: 1560\n",
            "🏡 Filtered PreOwned & Active homes: 881\n",
            "💾 Today's listings saved as /content/drive/MyDrive/VLS_Tracker/VLS_2025-04-27.csv\n",
            "✅ Yesterday's file loaded: VLS_2025-04-26.csv\n",
            "🗂️ Removed listings saved as /content/drive/MyDrive/VLS_Tracker/Removed_Listings_2025-04-27.csv\n"
          ]
        }
      ],
      "source": [
        "# Mount Google Drive\n",
        "from google.colab import drive\n",
        "drive.mount('/content/drive')\n",
        "\n",
        "\n",
        "import os\n",
        "\n",
        "folder_path = '/content/drive/MyDrive/VLS_Tracker'\n",
        "\n",
        "# Check files in the folder\n",
        "print(\"Files inside VLS_Tracker folder:\")\n",
        "print(os.listdir(folder_path))\n",
        "\n",
        "import pandas as pd\n",
        "import requests\n",
        "from datetime import datetime\n",
        "\n",
        "# Fetch today's data\n",
        "print(\"🌐 Fetching today's VLS data...\")\n",
        "url = \"https://api.thevillages.com/hf/search/allhomelisting\"\n",
        "response = requests.get(url)\n",
        "data = response.json()\n",
        "\n",
        "all_homes = data.get(\"HomeList\", [])\n",
        "print(f\"✅ Total homes received: {len(all_homes)}\")\n",
        "\n",
        "# Filter PreOwned + Active listings\n",
        "filtered_homes = [\n",
        "    home for home in all_homes\n",
        "    if home.get(\"SaleType\") == \"P\" and home.get(\"ListingStatus\") == \"A\"\n",
        "]\n",
        "\n",
        "print(f\"🏡 Filtered PreOwned & Active homes: {len(filtered_homes)}\")\n",
        "\n",
        "# Save today's data\n",
        "today = datetime.now().strftime('%Y-%m-%d')\n",
        "today_filename = f'VLS_{today}.csv'\n",
        "today_full_path = os.path.join(folder_path, today_filename)\n",
        "\n",
        "df_today = pd.DataFrame([{\n",
        "    \"ULIKey\": home.get(\"ULIKey\"),\n",
        "    \"Address\": home.get(\"Address\"),\n",
        "    \"Village\": home.get(\"Village\"),\n",
        "    \"County\": home.get(\"County\"),\n",
        "    \"Model\": home.get(\"Model\"),\n",
        "    \"Price\": home.get(\"Price\").replace(\"$\", \"\").replace(\",\", \"\"),\n",
        "    \"Bedrooms\": home.get(\"Bedrooms\"),\n",
        "    \"Baths\": home.get(\"Baths\"),\n",
        "    \"SquareFeet\": home.get(\"SquareFeet\"),\n",
        "    \"Garage\": home.get(\"Garage\"),\n",
        "    \"Pool\": home.get(\"Pool\"),\n",
        "    \"Latitude\": home.get(\"GISLat\"),\n",
        "    \"Longitude\": home.get(\"GISLong\"),\n",
        "    \"Status\": home.get(\"ListingStatus\"),\n",
        "    \"SaleType\": home.get(\"SaleType\"),\n",
        "    \"YouTubeVideoId\": home.get(\"YouTubeVideoId\"),\n",
        "    \"VLSNumber\": home.get(\"VLSNumber\")\n",
        "} for home in filtered_homes])\n",
        "\n",
        "df_today.to_csv(today_full_path, index=False, encoding='utf-8-sig')\n",
        "print(f\"💾 Today's listings saved as {today_full_path}\")\n",
        "\n",
        "from datetime import timedelta\n",
        "\n",
        "# Get yesterday's date\n",
        "yesterday = (datetime.now() - timedelta(days=1)).strftime('%Y-%m-%d')\n",
        "yesterday_filename = f'VLS_{yesterday}.csv'\n",
        "yesterday_full_path = os.path.join(folder_path, yesterday_filename)\n",
        "\n",
        "# Check if the file exists\n",
        "if not os.path.exists(yesterday_full_path):\n",
        "    print(f\"❌ Yesterday's file not found: {yesterday_filename}\")\n",
        "else:\n",
        "    # Load the data\n",
        "    df_yesterday = pd.read_csv(yesterday_full_path)\n",
        "    print(f\"✅ Yesterday's file loaded: {yesterday_filename}\")\n",
        "\n",
        "# Only Active listings from yesterday\n",
        "df_yesterday_active = df_yesterday[df_yesterday['Status'] == 'A']\n",
        "\n",
        "# Find homes missing today (removed)\n",
        "removed = df_yesterday_active[~df_yesterday_active['ULIKey'].isin(df_today['ULIKey'])]\n",
        "\n",
        "# Check if there are any removed listings\n",
        "if not removed.empty:\n",
        "    removed_filename = f'Removed_Listings_{today}.csv'\n",
        "    removed_full_path = os.path.join(folder_path, removed_filename)\n",
        "\n",
        "    # Save the removed listings to Google Drive\n",
        "    removed.to_csv(removed_full_path, index=False, encoding=\"utf-8-sig\")\n",
        "    print(f\"🗂️ Removed listings saved as {removed_full_path}\")\n",
        "else:\n",
        "    print(\"✅ No removed listings today!\")\n",
        "\n"
      ]
    }
  ]
}